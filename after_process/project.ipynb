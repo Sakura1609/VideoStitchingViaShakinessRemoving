{
 "cells": [
  {
   "cell_type": "code",
   "execution_count": 46,
   "metadata": {},
   "outputs": [],
   "source": [
    "import cv2\n",
    "import numpy as np\n",
    "\n",
    "# 读取原始图像\n",
    "image = cv2.imread('D1.jpg')"
   ]
  },
  {
   "cell_type": "code",
   "execution_count": 47,
   "metadata": {},
   "outputs": [
    {
     "data": {
      "text/plain": [
       "True"
      ]
     },
     "execution_count": 47,
     "metadata": {},
     "output_type": "execute_result"
    }
   ],
   "source": [
    "# 将图像转换为灰度图像\n",
    "gray = cv2.cvtColor(image, cv2.COLOR_BGR2GRAY)\n",
    "\n",
    "# 二值化处理\n",
    "ret, thresh = cv2.threshold(gray, 10, 255, cv2.THRESH_BINARY)\n",
    "\n",
    "# 轮廓检测\n",
    "contours, _ = cv2.findContours(thresh, cv2.RETR_EXTERNAL, cv2.CHAIN_APPROX_NONE)\n",
    "\n",
    "# 找到凹多边形的轮廓\n",
    "outer_contour = max(contours, key=cv2.contourArea)\n",
    "\n",
    "# 根据凹多边形的轮廓创建掩码\n",
    "mask = np.zeros_like(gray)\n",
    "cv2.drawContours(mask, [outer_contour], -1, (255), thickness=cv2.FILLED)\n",
    "\n",
    "# 根据掩码裁剪图像\n",
    "# cropped_image = cv2.bitwise_and(image, image, mask=mask)\n",
    "\n",
    "# # 显示裁剪后的图像\n",
    "# cv2.imshow('Cropped Image', cropped_image)\n",
    "# cv2.waitKey(0)\n",
    "# cv2.destroyAllWindows()\n",
    "cv2.imwrite('D1_cropped.jpg', mask)\n"
   ]
  },
  {
   "cell_type": "code",
   "execution_count": 52,
   "metadata": {},
   "outputs": [
    {
     "name": "stdout",
     "output_type": "stream",
     "text": [
      "[[0. 0. 0. ... 0. 0. 0.]\n",
      " [0. 0. 0. ... 0. 0. 0.]\n",
      " [0. 0. 0. ... 0. 0. 0.]\n",
      " ...\n",
      " [0. 0. 0. ... 0. 0. 0.]\n",
      " [0. 0. 0. ... 0. 0. 0.]\n",
      " [0. 0. 0. ... 0. 0. 0.]] [[0. 0. 0. ... 0. 0. 0.]\n",
      " [0. 0. 0. ... 0. 0. 0.]\n",
      " [0. 0. 0. ... 0. 0. 0.]\n",
      " ...\n",
      " [0. 0. 0. ... 0. 0. 0.]\n",
      " [0. 0. 0. ... 0. 0. 0.]\n",
      " [0. 0. 0. ... 0. 0. 0.]]\n"
     ]
    }
   ],
   "source": [
    "\n",
    "h, w = image.shape[:2]\n",
    "fov = np.pi / 2\n",
    "focal_length = (w + h) / (2 * np.tan(fov / 2))\n",
    "\n",
    "# 生成球形投影的坐标\n",
    "map_x = np.zeros((h, w), dtype=np.float32)\n",
    "map_y = np.zeros((h, w), dtype=np.float32)\n",
    "for y in range(h):\n",
    "    for x in range(w):\n",
    "        if mask[y, x] == 255:  # 判断当前像素是否在指定的区域内\n",
    "            theta = 2.0 * np.pi * (x / w - 0.5)\n",
    "            phi = np.pi * (y / h - 0.5)\n",
    "            x_sphere = np.sin(theta) * np.cos(phi)\n",
    "            y_sphere = np.sin(phi)\n",
    "            z_sphere = np.cos(theta) * np.cos(phi)\n",
    "            x_proj = w / 2 + (focal_length * x_sphere * w / (2 * z_sphere))\n",
    "            y_proj = h / 2 + (focal_length * y_sphere * h / (2 * z_sphere))\n",
    "            map_x[y, x] = x_proj\n",
    "            map_y[y, x] = y_proj\n",
    "\n",
    "# 进行球形投影\n",
    "spherical_image = cv2.remap(image, map_x, map_y, interpolation=cv2.INTER_LINEAR, borderMode=cv2.BORDER_CONSTANT)\n",
    "\n",
    "# 显示结果\n",
    "cv2.imwrite('Equirectangular_Projection.jpg', spherical_image)\n",
    "cv2.imwrite('ori.jpg', image)\n",
    "# cv2.waitKey(0)\n",
    "# cv2.destroyAllWindows()"
   ]
  }
 ],
 "metadata": {
  "kernelspec": {
   "display_name": "py39",
   "language": "python",
   "name": "python3"
  },
  "language_info": {
   "codemirror_mode": {
    "name": "ipython",
    "version": 3
   },
   "file_extension": ".py",
   "mimetype": "text/x-python",
   "name": "python",
   "nbconvert_exporter": "python",
   "pygments_lexer": "ipython3",
   "version": "3.8.18"
  }
 },
 "nbformat": 4,
 "nbformat_minor": 2
}
